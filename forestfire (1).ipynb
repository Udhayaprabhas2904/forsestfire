{
  "cells": [
    {
      "cell_type": "code",
      "execution_count": null,
      "metadata": {
        "id": "YvvBuHzF31ei"
      },
      "outputs": [],
      "source": [
        "# Import Libraries\n",
        "\n",
        "import pandas as pd\n",
        "import numpy as np\n",
        "import matplotlib.pyplot as plt\n",
        "import seaborn as sns\n",
        "from sklearn.model_selection import train_test_split\n",
        "from sklearn.preprocessing import StandardScaler\n",
        "from sklearn.ensemble import RandomForestClassifier\n",
        "from sklearn.metrics import accuracy_score, classification_report\n",
        "import pickle"
      ]
    },
    {
      "cell_type": "code",
      "execution_count": null,
      "metadata": {
        "id": "wGYxOjyj6GpA"
      },
      "outputs": [],
      "source": [
        "# Load the forest fire dataset\n",
        "forest_data = pd.read_csv(\"D:\\forest fire project\\forestfires.csv\")"
      ]
    },
    {
      "cell_type": "code",
      "execution_count": null,
      "metadata": {
        "colab": {
          "base_uri": "https://localhost:8080/"
        },
        "id": "IjrmUfvX6tWo",
        "outputId": "29fe34e9-4591-4b0d-d96a-4bb463e9fea9"
      },
      "outputs": [],
      "source": [
        "# Preview the dataset\n",
        "print(forest_data.head())"
      ]
    },
    {
      "cell_type": "code",
      "execution_count": null,
      "metadata": {
        "colab": {
          "base_uri": "https://localhost:8080/"
        },
        "id": "nsiVg3xR8fqS",
        "outputId": "35706095-b4ad-4972-ba5d-6574bd4d925f"
      },
      "outputs": [],
      "source": [
        "# Get the number of rows and columns in the dataset\n",
        "print(\"\\nDataset shape:\", forest_data.shape)"
      ]
    },
    {
      "cell_type": "code",
      "execution_count": null,
      "metadata": {
        "colab": {
          "base_uri": "https://localhost:8080/"
        },
        "id": "Bf72GrZ49Df8",
        "outputId": "d76751cc-1b1a-473c-971f-683a40e99035"
      },
      "outputs": [],
      "source": [
        "# Display statistical measures of the data\n",
        "print(\"Statistical measures of the data:\")\n",
        "print(forest_data.describe())"
      ]
    },
    {
      "cell_type": "code",
      "execution_count": null,
      "metadata": {
        "colab": {
          "base_uri": "https://localhost:8080/"
        },
        "id": "vwblF1xU9SYi",
        "outputId": "642888ea-990e-4eb6-f7ee-aadfa34d4aa8"
      },
      "outputs": [],
      "source": [
        "# Create a new column 'status': Fire occurred or No Fire\n",
        "forest_data['status'] = forest_data['area'].apply(lambda x: 'Fire' if x > 0 else 'No Fire')\n",
        "\n",
        "# Display the count of outcomes\n",
        "print(\"Status counts:\")\n",
        "print(forest_data['status'].value_counts())\n"
      ]
    },
    {
      "cell_type": "code",
      "execution_count": null,
      "metadata": {
        "id": "VyTZEcs9BfSM"
      },
      "outputs": [],
      "source": [
        "# Correct separation of features and target\n",
        "X = forest_data.drop(columns=['area','status'])  # only numeric input features\n",
        "y = forest_data['status']                        # target labels"
      ]
    },
    {
      "cell_type": "code",
      "execution_count": null,
      "metadata": {
        "id": "MR7tkURq96Bw"
      },
      "outputs": [],
      "source": [
        "# Encode month/day as numeric codes\n",
        "forest_data['month'] = forest_data['month'].astype('category').cat.codes\n",
        "forest_data['day'] = forest_data['day'].astype('category').cat.codes"
      ]
    },
    {
      "cell_type": "code",
      "execution_count": null,
      "metadata": {
        "id": "Ao1372F2-lWl"
      },
      "outputs": [],
      "source": [
        "# Features (X) → only numeric columns\n",
        "X = forest_data.drop(columns=['area','status'])  # remove target and text columns\n",
        "\n",
        "# Target (y)\n",
        "y = (forest_data['area'] > 0).astype(int)  # 1 = Fire, 0 = No Fire"
      ]
    },
    {
      "cell_type": "code",
      "execution_count": null,
      "metadata": {
        "colab": {
          "base_uri": "https://localhost:8080/"
        },
        "id": "n5h5RUTp-sQc",
        "outputId": "e13434f4-e163-4979-fd1f-ab68491d1cde"
      },
      "outputs": [],
      "source": [
        "# Display features and labels\n",
        "print(\"\\nInput features (first 5 rows):\")\n",
        "print(X.head())\n",
        "\n",
        "print(\"\\nLabels (first 5 rows):\")\n",
        "print(y.head())"
      ]
    },
    {
      "cell_type": "code",
      "execution_count": null,
      "metadata": {
        "id": "liofS-4E_GDS"
      },
      "outputs": [],
      "source": [
        "# Split dataset\n",
        "X_train, X_test, y_train, y_test = train_test_split(\n",
        "    X, y, test_size=0.2, random_state=42\n",
        ")"
      ]
    },
    {
      "cell_type": "code",
      "execution_count": null,
      "metadata": {
        "id": "B-a6mmB3Ab4H"
      },
      "outputs": [],
      "source": [
        "# 6️⃣ Scale Features\n",
        "\n",
        "scaler = StandardScaler()\n",
        "X_train_scaled = scaler.fit_transform(X_train)\n",
        "X_test_scaled = scaler.transform(X_test)"
      ]
    },
    {
      "cell_type": "code",
      "execution_count": null,
      "metadata": {
        "colab": {
          "base_uri": "https://localhost:8080/",
          "height": 80
        },
        "id": "arcbypozCf25",
        "outputId": "25a71e52-e12d-4c43-f723-21a200c7d906"
      },
      "outputs": [],
      "source": [
        "# Train Random Forest Classifier\n",
        "\n",
        "model = RandomForestClassifier(n_estimators=100, random_state=42)\n",
        "model.fit(X_train_scaled, y_train)"
      ]
    },
    {
      "cell_type": "code",
      "execution_count": null,
      "metadata": {
        "colab": {
          "base_uri": "https://localhost:8080/"
        },
        "id": "VQdySHKNCw3Q",
        "outputId": "f73be020-3808-40a7-f59b-006b028be08e"
      },
      "outputs": [],
      "source": [
        "# Evaluate the model\n",
        "\n",
        "# Training accuracy\n",
        "y_train_pred = model.predict(X_train_scaled)\n",
        "print(\"\\nTraining Accuracy:\", accuracy_score(y_train, y_train_pred))\n",
        "\n",
        "# Testing accuracy\n",
        "y_test_pred = model.predict(X_test_scaled)\n",
        "print(\"\\nTesting Accuracy:\", accuracy_score(y_test, y_test_pred))\n",
        "print(\"\\nClassification Report:\\n\", classification_report(y_test, y_test_pred))"
      ]
    },
    {
      "cell_type": "code",
      "execution_count": null,
      "metadata": {
        "colab": {
          "base_uri": "https://localhost:8080/"
        },
        "id": "-PnavevzC8MP",
        "outputId": "95ececfc-1748-4bb4-abf8-4dbb1f356c07"
      },
      "outputs": [],
      "source": [
        "# Save the model and scaler\n",
        "with open('forest_fire_model.pkl', 'wb') as file:\n",
        "    pickle.dump(model, file)\n",
        "\n",
        "with open('scaler.pkl', 'wb') as file:\n",
        "    pickle.dump(scaler, file)\n",
        "\n",
        "print(\"\\nModel and scaler saved successfully!\")\n"
      ]
    },
    {
      "cell_type": "code",
      "execution_count": null,
      "metadata": {
        "colab": {
          "base_uri": "https://localhost:8080/"
        },
        "id": "EsfqCibyDeDZ",
        "outputId": "56f42801-f70e-460e-c8a3-1a2197c44f59"
      },
      "outputs": [],
      "source": [
        "# Load model and make a prediction\n",
        "\n",
        "# Load model\n",
        "with open('forest_fire_model.pkl', 'rb') as file:\n",
        "    loaded_model = pickle.load(file)\n",
        "\n",
        "# Load scaler\n",
        "with open('scaler.pkl', 'rb') as file:\n",
        "    loaded_scaler = pickle.load(file)\n",
        "\n",
        "# Sample input for prediction\n",
        "# Replace values with actual weather data: month, day, X, Y, FFMC, DMC, DC, ISI, temp, RH, wind, rain\n",
        "sample_input = np.array([[7, 5, 7, 5, 85.0, 30.0, 400.0, 5.0, 30.0, 40.0, 10.0, 0.0]])\n",
        "\n",
        "# Scale input\n",
        "sample_input_scaled = loaded_scaler.transform(sample_input)\n",
        "\n",
        "# Predict fire risk\n",
        "prediction = loaded_model.predict(sample_input_scaled)\n",
        "print(\"\\nPredicted Fire Risk:\", prediction[0])"
      ]
    },
    {
      "cell_type": "code",
      "execution_count": null,
      "metadata": {
        "colab": {
          "base_uri": "https://localhost:8080/",
          "height": 521
        },
        "id": "IVBr6SR5jhbf",
        "outputId": "4754a6f7-3c30-42ae-e62b-b721c60c96c3"
      },
      "outputs": [],
      "source": [
        "# Pie chart for Fire vs No Fire\n",
        "fire_counts = forest_data['status'].value_counts()\n",
        "\n",
        "plt.figure(figsize=(6,6))\n",
        "plt.pie(fire_counts, labels=fire_counts.index, autopct='%1.1f%%', colors=['green','red'], startangle=90)\n",
        "plt.title('Forest Fire Occurrences')\n",
        "plt.show()\n"
      ]
    },
    {
      "cell_type": "code",
      "execution_count": null,
      "metadata": {
        "colab": {
          "base_uri": "https://localhost:8080/",
          "height": 505
        },
        "id": "zlv0nX9skAWu",
        "outputId": "69491e46-d627-485c-f274-f0e8e7e7ecfc"
      },
      "outputs": [],
      "source": [
        "\n",
        "# Feature names and importance values\n",
        "features = X.columns\n",
        "importances = model.feature_importances_\n",
        "\n",
        "\n",
        "sorted_idx = np.argsort(importances)\n",
        "sorted_features = features[sorted_idx]\n",
        "sorted_importances = importances[sorted_idx]\n",
        "\n",
        "# Line plot\n",
        "plt.figure(figsize=(10,6))\n",
        "plt.plot(sorted_features, sorted_importances, marker='o', linestyle='-', color='blue')\n",
        "plt.title('Feature Importance for Forest Fire Prediction', fontsize=16)\n",
        "plt.xlabel('Features', fontsize=12)\n",
        "plt.ylabel('Importance', fontsize=12)\n",
        "plt.xticks(rotation=45)\n",
        "plt.grid(True)\n",
        "plt.tight_layout()\n",
        "plt.show()\n"
      ]
    },
    {
      "cell_type": "code",
      "execution_count": null,
      "metadata": {
        "colab": {
          "base_uri": "https://localhost:8080/",
          "height": 564
        },
        "id": "dYZ-SR8tkKFj",
        "outputId": "ce210c85-d330-450e-f59b-9d5333aac3fa"
      },
      "outputs": [],
      "source": [
        "# Prepare data\n",
        "monthly_counts = forest_data.groupby(['month','status']).size().unstack(fill_value=0)\n",
        "\n",
        "# Heatmap\n",
        "plt.figure(figsize=(8,6))\n",
        "sns.heatmap(monthly_counts, annot=True, fmt='d', cmap='YlOrRd')\n",
        "plt.title('Monthly Fire Occurrences Heatmap')\n",
        "plt.xlabel('Status')\n",
        "plt.ylabel('Month (0=Jan, 11=Dec)')\n",
        "plt.show()"
      ]
    }
  ],
  "metadata": {
    "colab": {
      "provenance": []
    },
    "kernelspec": {
      "display_name": ".venv",
      "language": "python",
      "name": "python3"
    },
    "language_info": {
      "codemirror_mode": {
        "name": "ipython",
        "version": 3
      },
      "file_extension": ".py",
      "mimetype": "text/x-python",
      "name": "python",
      "nbconvert_exporter": "python",
      "pygments_lexer": "ipython3",
      "version": "3.14.0"
    }
  },
  "nbformat": 4,
  "nbformat_minor": 0
}
